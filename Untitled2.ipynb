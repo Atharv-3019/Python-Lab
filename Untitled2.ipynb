{
 "cells": [
  {
   "cell_type": "code",
   "execution_count": 1,
   "id": "dcb8b302-b726-4aea-9816-84c46ef622dc",
   "metadata": {},
   "outputs": [
    {
     "name": "stdin",
     "output_type": "stream",
     "text": [
      "  3\n",
      "  4\n",
      "  5\n"
     ]
    },
    {
     "name": "stdout",
     "output_type": "stream",
     "text": [
      "12.0\n"
     ]
    }
   ],
   "source": [
    "side1 = float(input(\" \"))\n",
    "side2 = float(input(\" \"))\n",
    "side3 = float(input(\" \"))\n",
    "perimeter = side1+ side2+ side3\n",
    "print(perimeter)\n"
   ]
  },
  {
   "cell_type": "code",
   "execution_count": 3,
   "id": "d0355d30-6d12-4580-bae7-0df623533d5c",
   "metadata": {},
   "outputs": [
    {
     "name": "stdout",
     "output_type": "stream",
     "text": [
      "6.0\n"
     ]
    }
   ],
   "source": [
    "s = perimeter/2\n",
    "area = (s*(s-side1)*(s-side2)*(s-side3))**(1/2)\n",
    "print(area)"
   ]
  },
  {
   "cell_type": "code",
   "execution_count": 11,
   "id": "def8b82f-6b55-4eb5-bdf1-0d0b733cf21a",
   "metadata": {},
   "outputs": [
    {
     "name": "stdin",
     "output_type": "stream",
     "text": [
      "Enter temp in F 98.6\n"
     ]
    },
    {
     "name": "stdout",
     "output_type": "stream",
     "text": [
      "Temp in C: 37.296\n"
     ]
    }
   ],
   "source": [
    "temp = float(input(\"Enter temp in F\"))\n",
    "print(\"Temp in C:\" ,(temp-32)*.56)"
   ]
  },
  {
   "cell_type": "code",
   "execution_count": null,
   "id": "79ae6240-c328-4e04-b908-7c1f5f0b80c8",
   "metadata": {},
   "outputs": [],
   "source": []
  }
 ],
 "metadata": {
  "kernelspec": {
   "display_name": "Python 3 (ipykernel)",
   "language": "python",
   "name": "python3"
  },
  "language_info": {
   "codemirror_mode": {
    "name": "ipython",
    "version": 3
   },
   "file_extension": ".py",
   "mimetype": "text/x-python",
   "name": "python",
   "nbconvert_exporter": "python",
   "pygments_lexer": "ipython3",
   "version": "3.12.4"
  }
 },
 "nbformat": 4,
 "nbformat_minor": 5
}
