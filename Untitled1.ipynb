{
 "cells": [
  {
   "cell_type": "code",
   "execution_count": 17,
   "id": "be2d4c64-05f0-4e3b-8c23-d1d2f7701b0e",
   "metadata": {},
   "outputs": [
    {
     "name": "stdin",
     "output_type": "stream",
     "text": [
      "Enter something 4\n",
      "Enter something 8\n"
     ]
    },
    {
     "name": "stdout",
     "output_type": "stream",
     "text": [
      "12\n",
      "32\n",
      "-4\n",
      "4\n",
      "0\n",
      "0.5\n"
     ]
    }
   ],
   "source": [
    "user_input1 = int(input(\"Enter something\"))\n",
    "user_input2= int(input(\"Enter something\"))\n",
    "print(user_input1 + user_input2)\n",
    "print(user_input1 * user_input2)\n",
    "print(user_input1 - user_input2)\n",
    "print(user_input1 % user_input2)\n",
    "print(user_input1 // user_input2)\n",
    "print(user_input1 / user_input2)"
   ]
  },
  {
   "cell_type": "code",
   "execution_count": null,
   "id": "99ca9746-1bfc-45cc-aa25-076100ae3b6d",
   "metadata": {},
   "outputs": [],
   "source": [
    "user_input1 = int(input(\"Enter number 1\"))\n",
    "user_input2 = int(input(\"Enter number 2\"))\n",
    "print(f\"First number is :  {user_input1}\")\n",
    "print(f\"Second number is : {user_input2}\")\n",
    "print(f\"SUM IS :  {userinput1} + {user_input2}\")"
   ]
  },
  {
   "cell_type": "code",
   "execution_count": 7,
   "id": "4de6a3f6-37ce-4ca1-9b57-e3cc144c16f5",
   "metadata": {},
   "outputs": [
    {
     "ename": "NameError",
     "evalue": "name 'eoqcn' is not defined",
     "output_type": "error",
     "traceback": [
      "\u001b[1;31m---------------------------------------------------------------------------\u001b[0m",
      "\u001b[1;31mNameError\u001b[0m                                 Traceback (most recent call last)",
      "Cell \u001b[1;32mIn[7], line 1\u001b[0m\n\u001b[1;32m----> 1\u001b[0m eoqcn\n",
      "\u001b[1;31mNameError\u001b[0m: name 'eoqcn' is not defined"
     ]
    }
   ],
   "source": [
    "eoqcn"
   ]
  },
  {
   "cell_type": "code",
   "execution_count": null,
   "id": "5a59ace8-fc6a-4a07-83b3-e283d32c9c92",
   "metadata": {},
   "outputs": [],
   "source": []
  }
 ],
 "metadata": {
  "kernelspec": {
   "display_name": "Python 3 (ipykernel)",
   "language": "python",
   "name": "python3"
  },
  "language_info": {
   "codemirror_mode": {
    "name": "ipython",
    "version": 3
   },
   "file_extension": ".py",
   "mimetype": "text/x-python",
   "name": "python",
   "nbconvert_exporter": "python",
   "pygments_lexer": "ipython3",
   "version": "3.12.4"
  }
 },
 "nbformat": 4,
 "nbformat_minor": 5
}
