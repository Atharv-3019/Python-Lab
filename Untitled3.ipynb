{
 "cells": [
  {
   "cell_type": "code",
   "execution_count": 5,
   "id": "c3c9462f-1637-4f96-be1f-336c78f11627",
   "metadata": {},
   "outputs": [
    {
     "name": "stdin",
     "output_type": "stream",
     "text": [
      "Enter a number :  5\n"
     ]
    },
    {
     "name": "stdout",
     "output_type": "stream",
     "text": [
      "1 1\n",
      "2 4\n",
      "3 9\n",
      "4 16\n",
      "5 25\n"
     ]
    }
   ],
   "source": [
    "n = int(input(\"Enter a number : \"))\n",
    "for i in range(1, n+1):\n",
    "    print(i, i*i)"
   ]
  },
  {
   "cell_type": "code",
   "execution_count": 1,
   "id": "a61ef6e1-650d-45da-b560-e9b6e2a666dc",
   "metadata": {},
   "outputs": [
    {
     "name": "stdin",
     "output_type": "stream",
     "text": [
      "Enter a number:  456\n"
     ]
    },
    {
     "name": "stdout",
     "output_type": "stream",
     "text": [
      "15\n"
     ]
    }
   ],
   "source": [
    "num = int(input(\"Enter a number: \"))\n",
    "sum =0;\n",
    "while num>0 :\n",
    "    sum = sum + (num%10)\n",
    "    num = num// 10\n",
    "print(sum)"
   ]
  },
  {
   "cell_type": "code",
   "execution_count": 15,
   "id": "740a240a-0000-41f4-b785-3bda9c35b332",
   "metadata": {},
   "outputs": [
    {
     "name": "stdin",
     "output_type": "stream",
     "text": [
      "Enter a number 7\n"
     ]
    },
    {
     "name": "stdout",
     "output_type": "stream",
     "text": [
      "0\n",
      "1\n",
      "1\n",
      "2\n",
      "3\n",
      "5\n",
      "8\n",
      "13\n",
      "21\n"
     ]
    }
   ],
   "source": [
    "n = int(input(\"Enter a number\"))\n",
    "f = 0\n",
    "s = 1\n",
    "if(n==1):\n",
    "    print(f)\n",
    "if(n>=2):\n",
    "    print(f)\n",
    "    print(s)\n",
    "\n",
    "while n>0:\n",
    "    \n",
    "    print(s+f)\n",
    "    temp1 = f\n",
    "    temp2 = s\n",
    "    f = temp2\n",
    "    s = temp1 + temp2\n",
    "    n = n-1"
   ]
  },
  {
   "cell_type": "code",
   "execution_count": 17,
   "id": "deb8c0e0-3cd5-46f5-87c3-fcbf993c5e1f",
   "metadata": {},
   "outputs": [
    {
     "name": "stdin",
     "output_type": "stream",
     "text": [
      "Enter a number whose table you want 8\n",
      "Enter a limit of it 10\n"
     ]
    },
    {
     "name": "stdout",
     "output_type": "stream",
     "text": [
      "8 X 1 = 8\n",
      "8 X 2 = 16\n",
      "8 X 3 = 24\n",
      "8 X 4 = 32\n",
      "8 X 5 = 40\n",
      "8 X 6 = 48\n",
      "8 X 7 = 56\n",
      "8 X 8 = 64\n",
      "8 X 9 = 72\n",
      "8 X 10 = 80\n"
     ]
    }
   ],
   "source": [
    "num = int(input(\"Enter a number whose table you want\"))\n",
    "lim = int(input(\"Enter a limit of it\"))\n",
    "for i in range(1, lim+1):\n",
    "    print(num, \"X\", i , \"=\", num*i)"
   ]
  },
  {
   "cell_type": "code",
   "execution_count": 47,
   "id": "9ee6695d-cdbe-4f11-b21e-c85cb34c07ef",
   "metadata": {},
   "outputs": [
    {
     "name": "stdin",
     "output_type": "stream",
     "text": [
      "Enter a string U@(21(JS\n"
     ]
    },
    {
     "name": "stdout",
     "output_type": "stream",
     "text": [
      "NO\n"
     ]
    }
   ],
   "source": [
    "s = input(\"Enter a string\")\n",
    "flag =0\n",
    "c=0\n",
    "for char in s:\n",
    "  a = ord(char)\n",
    "  if( 48<= a <=57):\n",
    "      c = c+1;\n",
    "  elif(65<= a <=90):\n",
    "      c = c+1\n",
    "  elif( 97<=a<=122):\n",
    "      c =c+1\n",
    "  else:\n",
    "    flag =1 \n",
    "    break\n",
    "\n",
    "if(flag==0):\n",
    "    print(\"YES\")\n",
    "else:\n",
    "    print(\"NO\")\n",
    "    \n",
    "    "
   ]
  },
  {
   "cell_type": "code",
   "execution_count": 49,
   "id": "c5c0b01d-1baa-42bf-8f8d-5e47bf7282ba",
   "metadata": {},
   "outputs": [
    {
     "name": "stdin",
     "output_type": "stream",
     "text": [
      "Enter a string abbajcdbwja\n"
     ]
    },
    {
     "name": "stdout",
     "output_type": "stream",
     "text": [
      "3\n"
     ]
    }
   ],
   "source": [
    "s = input(\"Enter a string\")\n",
    "c=0;\n",
    "for i in s:\n",
    "    if(i=='a'):\n",
    "        c = c+1\n",
    "print(c)\n",
    "     "
   ]
  },
  {
   "cell_type": "code",
   "execution_count": null,
   "id": "30403ca6-7fbf-4ebe-8afe-5f783abe8b59",
   "metadata": {},
   "outputs": [],
   "source": []
  }
 ],
 "metadata": {
  "kernelspec": {
   "display_name": "Python 3 (ipykernel)",
   "language": "python",
   "name": "python3"
  },
  "language_info": {
   "codemirror_mode": {
    "name": "ipython",
    "version": 3
   },
   "file_extension": ".py",
   "mimetype": "text/x-python",
   "name": "python",
   "nbconvert_exporter": "python",
   "pygments_lexer": "ipython3",
   "version": "3.12.4"
  }
 },
 "nbformat": 4,
 "nbformat_minor": 5
}
