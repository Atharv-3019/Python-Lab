{
 "cells": [
  {
   "cell_type": "code",
   "execution_count": 5,
   "id": "1d73480d-5ca2-4dd1-8696-f86a83bfd593",
   "metadata": {},
   "outputs": [
    {
     "name": "stdout",
     "output_type": "stream",
     "text": [
      "4\n"
     ]
    }
   ],
   "source": [
    "def checkPalin(word):\n",
    "    if word.lower() == word.lower()[::-1] :\n",
    "        return True\n",
    "def countPalin(str):\n",
    "    count = 0\n",
    "    listOfWords = str.split(\" \")\n",
    "    for elements in listOfWords:\n",
    "        if checkPalin(elements):\n",
    "            count +=1\n",
    "    print(count)\n",
    "\n",
    "countPalin(\"A bccb is a goog\")"
   ]
  },
  {
   "cell_type": "code",
   "execution_count": 15,
   "id": "cefb46ab-2692-4f5a-a590-34fb8e981db4",
   "metadata": {},
   "outputs": [
    {
     "name": "stdin",
     "output_type": "stream",
     "text": [
      "Enter the number of elements:  6\n",
      "Enter number 1:  3\n",
      "Enter number 2:  44\n",
      "Enter number 3:  5\n",
      "Enter number 4:  6\n",
      "Enter number 5:  7\n",
      "Enter number 6:  7\n"
     ]
    },
    {
     "name": "stdout",
     "output_type": "stream",
     "text": [
      "\n",
      "List: [3, 44, 5, 6, 7, 7]\n",
      "Mean: 12.0\n",
      "Median: 6.5\n",
      "Mode: 7\n"
     ]
    }
   ],
   "source": [
    "\n",
    "n = int(input(\"Enter the number of elements: \"))\n",
    "numbers = [int(input(f\"Enter number {i+1}: \")) for i in range(n)]\n",
    "mean = sum(numbers) / len(numbers)\n",
    "\n",
    "sorted_numbers = sorted(numbers)\n",
    "length = len(sorted_numbers)\n",
    "if length % 2 == 0:\n",
    "    median = (sorted_numbers[length//2 - 1] + sorted_numbers[length//2]) / 2\n",
    "else:\n",
    "    median = sorted_numbers[length//2]\n",
    "\n",
    "frequency = {}\n",
    "for num in numbers:\n",
    "    frequency[num] = frequency.get(num, 0) + 1\n",
    "max_freq = max(frequency.values())\n",
    "mode = [num for num, freq in frequency.items() if freq == max_freq]\n",
    "\n",
    "print(f\"\\nList: {numbers}\")\n",
    "print(f\"Mean: {mean}\")\n",
    "print(f\"Median: {median}\")\n",
    "print(f\"Mode: {mode[0] if len(mode) == 1 else mode}\")"
   ]
  },
  {
   "cell_type": "code",
   "execution_count": 21,
   "id": "024751c3-800d-4ab0-97cd-5e4e39a80655",
   "metadata": {},
   "outputs": [
    {
     "name": "stdout",
     "output_type": "stream",
     "text": [
      "Combined Courses: ['CS1001:Python', 'CS1002:Java', 'CS1003:C++', 'CS1004:Web Development', 'CS1005:Data Structures']\n"
     ]
    }
   ],
   "source": [
    "\n",
    "course_codes = [\"CS1001\", \"CS1002\", \"CS1003\", \"CS1004\", \"CS1005\"]\n",
    "\n",
    "course_names = [\"Python\", \"Java\", \"C++\", \"Web Development\", \"Data Structures\"]\n",
    "\n",
    "combined_courses = [f\"{code}:{name}\" for code, name in zip(course_codes, course_names)]\n",
    "\n",
    "print(\"Combined Courses:\", combined_courses)"
   ]
  },
  {
   "cell_type": "code",
   "execution_count": null,
   "id": "0089d3ac-7672-4ad2-8fab-31bf5efec251",
   "metadata": {},
   "outputs": [],
   "source": []
  }
 ],
 "metadata": {
  "kernelspec": {
   "display_name": "Python 3 (ipykernel)",
   "language": "python",
   "name": "python3"
  },
  "language_info": {
   "codemirror_mode": {
    "name": "ipython",
    "version": 3
   },
   "file_extension": ".py",
   "mimetype": "text/x-python",
   "name": "python",
   "nbconvert_exporter": "python",
   "pygments_lexer": "ipython3",
   "version": "3.12.4"
  }
 },
 "nbformat": 4,
 "nbformat_minor": 5
}
